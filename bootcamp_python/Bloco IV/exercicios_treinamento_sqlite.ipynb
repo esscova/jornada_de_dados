{
 "cells": [
  {
   "cell_type": "markdown",
   "metadata": {},
   "source": [
    "# Exercício de Treinamento com SQLite3 e Dados Falsos Gerados pelo `Faker`\n",
    "\n",
    "Neste exercício, você irá praticar operações comuns em um banco de dados SQLite utilizando a biblioteca `sqlite3` e o `Faker` para gerar dados fictícios. O objetivo é criar, manipular e consultar um banco de dados de clientes."
   ]
  },
  {
   "cell_type": "markdown",
   "metadata": {},
   "source": [
    "## Contexto\n",
    "\n",
    "Você está trabalhando para uma empresa que deseja gerenciar seus clientes. Cada cliente tem as seguintes informações:\n",
    "\n",
    "- ID (gerado automaticamente)\n",
    "- Nome completo\n",
    "- Email\n",
    "- Endereço\n",
    "- Telefone\n",
    "- Data de cadastro\n",
    "\n",
    "## Tarefas\n",
    "\n",
    "1. **Listar todos os clientes**\n",
    "\n",
    "    Crie uma função que liste todos os clientes no banco de dados, exibindo as seguintes informações:\n",
    "\n",
    "    - ID\n",
    "    - Nome\n",
    "    - Email\n",
    "    - Telefone\n",
    "    - Data de Cadastro\n",
    "\n",
    "2. **Buscar cliente pelo email**: Implemente uma função que receba um email como parâmetro e retorne as informações completas do cliente.\n",
    "\n",
    "3. **Buscar cliente por id**: Implemente uma função que receba um id como parâmetro e retorne as informações completas do cliente.\n",
    "\n",
    "4. **Atualizar informações de um cliente:** Crie uma função que permita atualizar o endereço e telefone de um cliente identificado pelo seu ID.\n",
    "\n",
    "5. **Deletar um cliente:** Implemente uma função que remova um cliente do banco de dados com base no seu ID.\n",
    "\n",
    "6. **Listar clientes cadastrados em um período:** Implemente uma consulta que retorne todos os clientes cadastrados entre duas datas fornecidas.\n",
    "\n",
    "7. **Implementar paginação:** Implemente uma função com paginação que retorne 5 registros por vez.\n",
    "\n",
    "8. **Verificar emails duplicados:** Crie uma função que encontre emails duplicados no banco de dados.\n",
    "\n",
    "9. **Exportar para CSV:** Implemente uma função que exporte todos os clientes para um arquivo CSV.\n",
    "\n"
   ]
  },
  {
   "cell_type": "code",
   "execution_count": 31,
   "metadata": {},
   "outputs": [],
   "source": [
    "import sqlite3\n",
    "from faker import Faker\n",
    "from datetime import datetime, timedelta\n",
    "from pathlib import Path\n",
    "import random\n",
    "import csv\n",
    "import os\n",
    "\n",
    "# configs\n",
    "BD_URL = Path(\"data\")/\"clientes.db\"\n",
    "faker = Faker()"
   ]
  },
  {
   "cell_type": "code",
   "execution_count": 15,
   "metadata": {},
   "outputs": [],
   "source": [
    "# PARTE I - FUNÇÕES PARA CRIAR E POPULAR BD\n",
    "\n",
    "def conectar_bd():\n",
    "    conn = sqlite3.connect(BD_URL)\n",
    "    cursor = conn.cursor()\n",
    "    return conn, cursor\n",
    "\n",
    "def criar_tabela():\n",
    "    conn, cursor = conectar_bd()\n",
    "    cursor.execute('''\n",
    "        CREATE TABLE IF NOT EXISTS clientes (\n",
    "            id INTEGER PRIMARY KEY AUTOINCREMENT,\n",
    "            nome TEXT NOT NULL,\n",
    "            email TEXT NOT NULL UNIQUE,\n",
    "            endereco TEXT,\n",
    "            telefone TEXT,\n",
    "            data_cadastro TEXT\n",
    "        )\n",
    "    ''')\n",
    "    conn.commit()\n",
    "    conn.close()\n",
    "\n",
    "\n",
    "def popular_tabela(quantidade=10):\n",
    "    conn, cursor = conectar_bd()\n",
    "    for _ in range(quantidade):\n",
    "        nome = faker.name()\n",
    "        email = faker.email()\n",
    "        endereco = faker.address()\n",
    "        telefone = faker.phone_number()\n",
    "        data_cadastro = (datetime.now() - timedelta(days=random.randint(0, 30))).strftime('%Y-%m-%d %H:%M:%S')\n",
    "        cursor.execute('''\n",
    "            INSERT INTO clientes (nome, email, endereco, telefone, data_cadastro)\n",
    "            VALUES (?, ?, ?, ?, ?)\n",
    "        ''', (nome, email, endereco, telefone, data_cadastro))\n",
    "    conn.commit()\n",
    "    conn.close()\n",
    "\n",
    "\n",
    "\n",
    "criar_tabela()\n",
    "popular_tabela(20) "
   ]
  },
  {
   "cell_type": "code",
   "execution_count": 16,
   "metadata": {},
   "outputs": [
    {
     "name": "stdout",
     "output_type": "stream",
     "text": [
      "(1, 'Joshua Long', 'aarroyo@example.net', '533-568-6814x0045', '2024-12-09 00:06:57')\n",
      "(2, 'Gina Elliott', 'hughesandrea@example.org', '328.508.9877x061', '2024-12-05 00:06:57')\n",
      "(3, 'Jacob Nguyen', 'paulgutierrez@example.org', '(881)810-8055x79831', '2024-11-13 00:06:57')\n",
      "(4, 'Marc Mills', 'gonzalezjoseph@example.org', '7358891306', '2024-11-28 00:06:57')\n",
      "(5, 'John Montgomery', 'cunninghamwilliam@example.com', '298-451-2149x3095', '2024-11-11 00:06:57')\n",
      "(6, 'Michael Barnes', 'jacquelineknight@example.com', '(206)625-3061x83380', '2024-11-18 00:06:57')\n",
      "(7, 'Melissa Macdonald', 'ogreen@example.org', '001-815-531-0338', '2024-12-10 00:06:57')\n",
      "(8, 'Shelia Ray', 'ppowell@example.com', '657-303-3943x69105', '2024-11-25 00:06:57')\n",
      "(9, 'Joe Myers', 'brandon16@example.com', '001-390-886-8921x2635', '2024-11-30 00:06:57')\n",
      "(10, 'Grace Mendoza', 'derek06@example.org', '001-946-612-7067x6695', '2024-11-28 00:06:57')\n",
      "(11, 'Paula Morrison', 'brandonwerner@example.com', '(868)486-3463x14719', '2024-12-04 00:06:57')\n",
      "(12, 'Jonathan Gonzalez', 'ramirezangela@example.net', '+1-290-884-6855x612', '2024-11-15 00:06:57')\n",
      "(13, 'Susan Davis', 'joseph66@example.net', '001-762-834-2739x000', '2024-12-09 00:06:57')\n",
      "(14, 'Melissa Randolph', 'jenkinsjeremy@example.com', '001-993-733-9167', '2024-11-27 00:06:57')\n",
      "(15, 'Deborah Shields', 'boydjasmine@example.com', '342.387.1325x0246', '2024-11-20 00:06:57')\n",
      "(16, 'Francisco Rogers', 'andrewgates@example.com', '209.895.5520x430', '2024-11-24 00:06:57')\n",
      "(17, 'Patrick Huff', 'robertelliott@example.com', '364-635-5312x42863', '2024-11-15 00:06:57')\n",
      "(18, 'Wesley Adams', 'trevinoglenn@example.com', '+1-637-239-6507x349', '2024-11-29 00:06:57')\n",
      "(19, 'Joshua Moss', 'ricardomorris@example.org', '736-627-4764', '2024-11-23 00:06:57')\n",
      "(20, 'Paula Johnson', 'tina14@example.net', '+1-863-217-0135x42862', '2024-11-24 00:06:57')\n"
     ]
    }
   ],
   "source": [
    "# PARTE II - RESOLVENDO EXERCÍCIOS\n",
    "\n",
    "## 1. Listagem de registros\n",
    "def listar_clientes():\n",
    "    conn, cursor = conectar_bd()\n",
    "    cursor.execute('''\n",
    "                SELECT id, nome, email, telefone, data_cadastro\n",
    "                FROM clientes\n",
    "                ''')\n",
    "    clientes = cursor.fetchall()\n",
    "    conn.close()\n",
    "    for cliente in clientes:\n",
    "        print(cliente)\n",
    "\n",
    "listar_clientes()"
   ]
  },
  {
   "cell_type": "code",
   "execution_count": 19,
   "metadata": {},
   "outputs": [
    {
     "data": {
      "text/plain": [
       "(7,\n",
       " 'Melissa Macdonald',\n",
       " 'ogreen@example.org',\n",
       " '64675 Robert Squares\\nTuckermouth, WI 36490',\n",
       " '001-815-531-0338',\n",
       " '2024-12-10 00:06:57')"
      ]
     },
     "execution_count": 19,
     "metadata": {},
     "output_type": "execute_result"
    }
   ],
   "source": [
    "## 2. busca de um cliente por email\n",
    "def buscar_cliente_email(email):\n",
    "    conn, cursor = conectar_bd()\n",
    "    cursor.execute('''\n",
    "                SELECT *\n",
    "                FROM clientes\n",
    "                WHERE email = ?\n",
    "                ''', (email,))\n",
    "    cliente = cursor.fetchone()\n",
    "    conn.close()\n",
    "    return cliente\n",
    "\n",
    "email = 'ogreen@example.org'\n",
    "buscar_cliente_email(email)"
   ]
  },
  {
   "cell_type": "code",
   "execution_count": 20,
   "metadata": {},
   "outputs": [
    {
     "data": {
      "text/plain": [
       "(2,\n",
       " 'Gina Elliott',\n",
       " 'hughesandrea@example.org',\n",
       " '917 Matthew Ridges\\nSouth Mistytown, NJ 82701',\n",
       " '328.508.9877x061',\n",
       " '2024-12-05 00:06:57')"
      ]
     },
     "execution_count": 20,
     "metadata": {},
     "output_type": "execute_result"
    }
   ],
   "source": [
    "## 3. Busca de um cliente por id\n",
    "def buscar_cliente_id(id):\n",
    "    conn, cursor = conectar_bd()\n",
    "    cursor.execute('''\n",
    "                SELECT *\n",
    "                FROM clientes\n",
    "                WHERE id = ?\n",
    "                ''', (id,))\n",
    "    cliente = cursor.fetchone()\n",
    "    conn.close()\n",
    "    return cliente\n",
    "\n",
    "buscar_cliente_id(2)"
   ]
  },
  {
   "cell_type": "code",
   "execution_count": 21,
   "metadata": {},
   "outputs": [
    {
     "data": {
      "text/plain": [
       "(2,\n",
       " 'Gina Elliott',\n",
       " 'hughesandrea@example.org',\n",
       " 'Rua dos Bobos, 0',\n",
       " '000-000-000-0000',\n",
       " '2024-12-05 00:06:57')"
      ]
     },
     "execution_count": 21,
     "metadata": {},
     "output_type": "execute_result"
    }
   ],
   "source": [
    "## 4. atualização de um cliente\n",
    "def atualizar_cliente(id, novo_endereco, novo_telefone):\n",
    "    conn, cursor = conectar_bd()\n",
    "    cursor.execute(\n",
    "        '''\n",
    "        UPDATE clientes\n",
    "        SET endereco = ?, telefone = ?\n",
    "        WHERE id = ?\n",
    "        ''', \n",
    "        (novo_endereco, novo_telefone, id)\n",
    "    )\n",
    "    conn.commit()\n",
    "    conn.close()\n",
    "\n",
    "atualizar_cliente(2, 'Rua dos Bobos, 0', '000-000-000-0000')\n",
    "buscar_cliente_id(2)"
   ]
  },
  {
   "cell_type": "code",
   "execution_count": 22,
   "metadata": {},
   "outputs": [
    {
     "name": "stdout",
     "output_type": "stream",
     "text": [
      "Registro não encontrado\n"
     ]
    }
   ],
   "source": [
    "## 5. exclusão de um cliente\n",
    "def deletar_cliente(id):\n",
    "    conn, cursor = conectar_bd()\n",
    "    cursor.execute('DELETE FROM clientes WHERE id = ?', (id,))\n",
    "    conn.commit()\n",
    "    conn.close()\n",
    "\n",
    "deletar_cliente(2)\n",
    "if buscar_cliente_id(2) is None:\n",
    "    print('Registro não encontrado')\n"
   ]
  },
  {
   "cell_type": "code",
   "execution_count": 23,
   "metadata": {},
   "outputs": [
    {
     "name": "stdout",
     "output_type": "stream",
     "text": [
      "(1, 'Joshua Long', 'aarroyo@example.net', '533-568-6814x0045', '2024-12-09 00:06:57')\n",
      "(7, 'Melissa Macdonald', 'ogreen@example.org', '001-815-531-0338', '2024-12-10 00:06:57')\n",
      "(11, 'Paula Morrison', 'brandonwerner@example.com', '(868)486-3463x14719', '2024-12-04 00:06:57')\n",
      "(13, 'Susan Davis', 'joseph66@example.net', '001-762-834-2739x000', '2024-12-09 00:06:57')\n"
     ]
    }
   ],
   "source": [
    "## 6. listagem de clientes por periodo\n",
    "def listar_clientes_por_periodo(data_inicio, data_fim):\n",
    "    conn, cursor = conectar_bd()\n",
    "    cursor.execute('''\n",
    "        SELECT id, nome, email, telefone, data_cadastro\n",
    "        FROM clientes\n",
    "        WHERE data_cadastro BETWEEN ? AND ?\n",
    "    ''', (data_inicio, data_fim))\n",
    "    clientes = cursor.fetchall()\n",
    "    conn.close()\n",
    "    for cliente in clientes:\n",
    "        print(cliente)\n",
    "\n",
    "data_inicio = \"2024-12-01 00:00:00\"\n",
    "data_fim = \"2024-12-10 23:59:59\"\n",
    "listar_clientes_por_periodo(data_inicio, data_fim)"
   ]
  },
  {
   "cell_type": "code",
   "execution_count": 24,
   "metadata": {},
   "outputs": [
    {
     "name": "stdout",
     "output_type": "stream",
     "text": [
      "(7, 'Melissa Macdonald', 'ogreen@example.org', '001-815-531-0338', '2024-12-10 00:06:57')\n",
      "(8, 'Shelia Ray', 'ppowell@example.com', '657-303-3943x69105', '2024-11-25 00:06:57')\n",
      "(9, 'Joe Myers', 'brandon16@example.com', '001-390-886-8921x2635', '2024-11-30 00:06:57')\n",
      "(10, 'Grace Mendoza', 'derek06@example.org', '001-946-612-7067x6695', '2024-11-28 00:06:57')\n",
      "(11, 'Paula Morrison', 'brandonwerner@example.com', '(868)486-3463x14719', '2024-12-04 00:06:57')\n"
     ]
    }
   ],
   "source": [
    "## 7. busca com paginação\n",
    "def lista_clientes_paginacao(pagina=1, tamanho=5):\n",
    "    conn, cursor = conectar_bd()\n",
    "    offset = (pagina-1)*tamanho\n",
    "    cursor.execute('''\n",
    "        SELECT id, nome, email, telefone, data_cadastro\n",
    "        FROM clientes\n",
    "        LIMIT ? OFFSET ?\n",
    "    ''', (tamanho, offset))\n",
    "    clientes = cursor.fetchall()\n",
    "    conn.close()\n",
    "    for cliente in clientes:\n",
    "        print(cliente)\n",
    "\n",
    "lista_clientes_paginacao(2, 5)"
   ]
  },
  {
   "cell_type": "code",
   "execution_count": 27,
   "metadata": {},
   "outputs": [
    {
     "name": "stdout",
     "output_type": "stream",
     "text": [
      "Nenhum email duplicado encontrado.\n"
     ]
    },
    {
     "data": {
      "text/plain": [
       "[]"
      ]
     },
     "execution_count": 27,
     "metadata": {},
     "output_type": "execute_result"
    }
   ],
   "source": [
    "# 8. busca de clientes com emails duplicados\n",
    "def buscar_emails_duplicados():\n",
    "    conn, cursor = conectar_bd()\n",
    "    cursor.execute('''\n",
    "        SELECT email, COUNT(*) as quantidade\n",
    "        FROM clientes\n",
    "        GROUP BY email\n",
    "        HAVING COUNT(*) > 1\n",
    "    ''')\n",
    "    emails_duplicados = cursor.fetchall()\n",
    "    conn.close()\n",
    "    \n",
    "    if emails_duplicados:\n",
    "        print(\"Emails duplicados encontrados:\")\n",
    "        for email, quantidade in emails_duplicados:\n",
    "            print(f\"Email: {email}, Ocorrências: {quantidade}\")\n",
    "    else:\n",
    "        print(\"Nenhum email duplicado encontrado.\")\n",
    "    \n",
    "    return emails_duplicados\n",
    "\n",
    "buscar_emails_duplicados()"
   ]
  },
  {
   "cell_type": "code",
   "execution_count": 33,
   "metadata": {},
   "outputs": [
    {
     "name": "stdout",
     "output_type": "stream",
     "text": [
      "Arquivo data/clientes.csv criado com sucesso!\n"
     ]
    }
   ],
   "source": [
    "## 9. exportando para csv\n",
    "def exportar_clientes_csv():\n",
    "    conn, cursor = conectar_bd()\n",
    "    cursor.execute('''\n",
    "        SELECT id, nome, email, telefone, data_cadastro\n",
    "        FROM clientes\n",
    "    ''')\n",
    "    clientes = cursor.fetchall()\n",
    "    conn.close()\n",
    "    \n",
    "    directory = 'data'\n",
    "    file_path = os.path.join(directory, 'clientes.csv')\n",
    "    \n",
    "    if not os.path.exists(directory):\n",
    "        os.makedirs(directory)\n",
    "\n",
    "    with open(file_path, 'w', newline='') as file:\n",
    "        writer = csv.writer(file)\n",
    "        writer.writerow(['id', 'nome', 'email', 'telefone', 'data_cadastro'])\n",
    "        writer.writerows(clientes)\n",
    "    \n",
    "    print(f'Arquivo {file_path} criado com sucesso!')\n",
    "\n",
    "exportar_clientes_csv()"
   ]
  }
 ],
 "metadata": {
  "kernelspec": {
   "display_name": "base",
   "language": "python",
   "name": "python3"
  },
  "language_info": {
   "codemirror_mode": {
    "name": "ipython",
    "version": 3
   },
   "file_extension": ".py",
   "mimetype": "text/x-python",
   "name": "python",
   "nbconvert_exporter": "python",
   "pygments_lexer": "ipython3",
   "version": "3.12.4"
  }
 },
 "nbformat": 4,
 "nbformat_minor": 2
}
